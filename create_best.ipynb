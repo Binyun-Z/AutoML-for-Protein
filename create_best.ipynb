{
 "cells": [
  {
   "cell_type": "code",
   "execution_count": 50,
   "metadata": {},
   "outputs": [],
   "source": [
    "l171 = 'L'\n",
    "l172 = 'A'\n",
    "l198 = 'A'"
   ]
  },
  {
   "cell_type": "code",
   "execution_count": null,
   "metadata": {},
   "outputs": [],
   "source": []
  },
  {
   "cell_type": "code",
   "execution_count": 51,
   "metadata": {},
   "outputs": [
    {
     "data": {
      "text/plain": [
       "'g:\\\\ZJ\\\\Model\\\\BLOSUM62'"
      ]
     },
     "execution_count": 51,
     "metadata": {},
     "output_type": "execute_result"
    }
   ],
   "source": [
    "import os\n",
    "import copy\n",
    "from feature import iProtein\n",
    "path = os.getcwd()\n",
    "path\n",
    "os.path.join(path,'Model\\BLOSUM62')"
   ]
  },
  {
   "cell_type": "code",
   "execution_count": 52,
   "metadata": {},
   "outputs": [],
   "source": [
    "from autogluon.tabular import TabularDataset,TabularPredictor"
   ]
  },
  {
   "cell_type": "code",
   "execution_count": 53,
   "metadata": {},
   "outputs": [],
   "source": [
    "model = TabularPredictor.load(os.path.join(path,'Model\\BLOSUM62'))"
   ]
  },
  {
   "cell_type": "code",
   "execution_count": 54,
   "metadata": {},
   "outputs": [],
   "source": [
    "seq = 'MGKNLQALAQLYKNALLNDVLPFWENHSLDSEGGYFTCLDRQGKVYDTDKFIWLQNRQVWTFSMLCNQLEKRENWLKIARNGAKFLAQHGRDDEGNWYFALTRGGEPLVQPYNIFSDCFAAMAFSQYALASGEEWAKDVAMQAYNNVLRRKDNPKGKYTKTYPGTRPMKALAVPMILANLTLEMEWLLPQETLENVLAATVQEVMGDFLDQEQGLMYENVAPDGSHIDCFEGRLINPGHGIEAMWFIMDIARRKNDSKTINQAVDVVLNILNFAWDNEYGGLYYFMDAAGHPPQQLEWDQKLWWVHLESLVALAMGYRLTGRDACWAWYQKMHDYSWQHFADPEYGEWFGYLNRRGEVLLNLKGGKWKGCFHVPRAMYLCWQQFEALS'"
   ]
  },
  {
   "cell_type": "code",
   "execution_count": 55,
   "metadata": {},
   "outputs": [
    {
     "data": {
      "text/plain": [
       "388"
      ]
     },
     "execution_count": 55,
     "metadata": {},
     "output_type": "execute_result"
    }
   ],
   "source": [
    "len(seq)"
   ]
  },
  {
   "cell_type": "code",
   "execution_count": 56,
   "metadata": {},
   "outputs": [],
   "source": [
    "value = 0\n",
    "AA= ['A','R','N','D','C','Q','E','G','H','I','L','K','M','F','P','S','T','W','Y','V']\n"
   ]
  },
  {
   "cell_type": "code",
   "execution_count": 57,
   "metadata": {},
   "outputs": [],
   "source": [
    "def Feature_extraction(seqlist:list,method):\n",
    "    protein = iProtein(seqlist)\n",
    "    protein.get_descriptor(method)\n",
    "    return(protein.encodings,protein.error_msg)\n"
   ]
  },
  {
   "cell_type": "code",
   "execution_count": 60,
   "metadata": {},
   "outputs": [
    {
     "data": {
      "text/html": [
       "<div>\n",
       "<style scoped>\n",
       "    .dataframe tbody tr th:only-of-type {\n",
       "        vertical-align: middle;\n",
       "    }\n",
       "\n",
       "    .dataframe tbody tr th {\n",
       "        vertical-align: top;\n",
       "    }\n",
       "\n",
       "    .dataframe thead th {\n",
       "        text-align: right;\n",
       "    }\n",
       "</style>\n",
       "<table border=\"1\" class=\"dataframe\">\n",
       "  <thead>\n",
       "    <tr style=\"text-align: right;\">\n",
       "      <th></th>\n",
       "      <th>blosum62_1</th>\n",
       "      <th>blosum62_2</th>\n",
       "      <th>blosum62_3</th>\n",
       "      <th>blosum62_4</th>\n",
       "      <th>blosum62_5</th>\n",
       "      <th>blosum62_6</th>\n",
       "      <th>blosum62_7</th>\n",
       "      <th>blosum62_8</th>\n",
       "      <th>blosum62_9</th>\n",
       "      <th>blosum62_10</th>\n",
       "      <th>...</th>\n",
       "      <th>blosum62_7751</th>\n",
       "      <th>blosum62_7752</th>\n",
       "      <th>blosum62_7753</th>\n",
       "      <th>blosum62_7754</th>\n",
       "      <th>blosum62_7755</th>\n",
       "      <th>blosum62_7756</th>\n",
       "      <th>blosum62_7757</th>\n",
       "      <th>blosum62_7758</th>\n",
       "      <th>blosum62_7759</th>\n",
       "      <th>blosum62_7760</th>\n",
       "    </tr>\n",
       "  </thead>\n",
       "  <tbody>\n",
       "    <tr>\n",
       "      <th>pet0</th>\n",
       "      <td>-1.0</td>\n",
       "      <td>-1.0</td>\n",
       "      <td>-2.0</td>\n",
       "      <td>-3.0</td>\n",
       "      <td>-1.0</td>\n",
       "      <td>0.0</td>\n",
       "      <td>-2.0</td>\n",
       "      <td>-3.0</td>\n",
       "      <td>-2.0</td>\n",
       "      <td>1.0</td>\n",
       "      <td>...</td>\n",
       "      <td>-2.0</td>\n",
       "      <td>0.0</td>\n",
       "      <td>-1.0</td>\n",
       "      <td>-2.0</td>\n",
       "      <td>-1.0</td>\n",
       "      <td>4.0</td>\n",
       "      <td>1.0</td>\n",
       "      <td>-3.0</td>\n",
       "      <td>-2.0</td>\n",
       "      <td>-2.0</td>\n",
       "    </tr>\n",
       "    <tr>\n",
       "      <th>pet1</th>\n",
       "      <td>-1.0</td>\n",
       "      <td>-1.0</td>\n",
       "      <td>-2.0</td>\n",
       "      <td>-3.0</td>\n",
       "      <td>-1.0</td>\n",
       "      <td>0.0</td>\n",
       "      <td>-2.0</td>\n",
       "      <td>-3.0</td>\n",
       "      <td>-2.0</td>\n",
       "      <td>1.0</td>\n",
       "      <td>...</td>\n",
       "      <td>-2.0</td>\n",
       "      <td>0.0</td>\n",
       "      <td>-1.0</td>\n",
       "      <td>-2.0</td>\n",
       "      <td>-1.0</td>\n",
       "      <td>4.0</td>\n",
       "      <td>1.0</td>\n",
       "      <td>-3.0</td>\n",
       "      <td>-2.0</td>\n",
       "      <td>-2.0</td>\n",
       "    </tr>\n",
       "    <tr>\n",
       "      <th>pet2</th>\n",
       "      <td>-1.0</td>\n",
       "      <td>-1.0</td>\n",
       "      <td>-2.0</td>\n",
       "      <td>-3.0</td>\n",
       "      <td>-1.0</td>\n",
       "      <td>0.0</td>\n",
       "      <td>-2.0</td>\n",
       "      <td>-3.0</td>\n",
       "      <td>-2.0</td>\n",
       "      <td>1.0</td>\n",
       "      <td>...</td>\n",
       "      <td>-2.0</td>\n",
       "      <td>0.0</td>\n",
       "      <td>-1.0</td>\n",
       "      <td>-2.0</td>\n",
       "      <td>-1.0</td>\n",
       "      <td>4.0</td>\n",
       "      <td>1.0</td>\n",
       "      <td>-3.0</td>\n",
       "      <td>-2.0</td>\n",
       "      <td>-2.0</td>\n",
       "    </tr>\n",
       "    <tr>\n",
       "      <th>pet3</th>\n",
       "      <td>-1.0</td>\n",
       "      <td>-1.0</td>\n",
       "      <td>-2.0</td>\n",
       "      <td>-3.0</td>\n",
       "      <td>-1.0</td>\n",
       "      <td>0.0</td>\n",
       "      <td>-2.0</td>\n",
       "      <td>-3.0</td>\n",
       "      <td>-2.0</td>\n",
       "      <td>1.0</td>\n",
       "      <td>...</td>\n",
       "      <td>-2.0</td>\n",
       "      <td>0.0</td>\n",
       "      <td>-1.0</td>\n",
       "      <td>-2.0</td>\n",
       "      <td>-1.0</td>\n",
       "      <td>4.0</td>\n",
       "      <td>1.0</td>\n",
       "      <td>-3.0</td>\n",
       "      <td>-2.0</td>\n",
       "      <td>-2.0</td>\n",
       "    </tr>\n",
       "    <tr>\n",
       "      <th>pet4</th>\n",
       "      <td>-1.0</td>\n",
       "      <td>-1.0</td>\n",
       "      <td>-2.0</td>\n",
       "      <td>-3.0</td>\n",
       "      <td>-1.0</td>\n",
       "      <td>0.0</td>\n",
       "      <td>-2.0</td>\n",
       "      <td>-3.0</td>\n",
       "      <td>-2.0</td>\n",
       "      <td>1.0</td>\n",
       "      <td>...</td>\n",
       "      <td>-2.0</td>\n",
       "      <td>0.0</td>\n",
       "      <td>-1.0</td>\n",
       "      <td>-2.0</td>\n",
       "      <td>-1.0</td>\n",
       "      <td>4.0</td>\n",
       "      <td>1.0</td>\n",
       "      <td>-3.0</td>\n",
       "      <td>-2.0</td>\n",
       "      <td>-2.0</td>\n",
       "    </tr>\n",
       "    <tr>\n",
       "      <th>...</th>\n",
       "      <td>...</td>\n",
       "      <td>...</td>\n",
       "      <td>...</td>\n",
       "      <td>...</td>\n",
       "      <td>...</td>\n",
       "      <td>...</td>\n",
       "      <td>...</td>\n",
       "      <td>...</td>\n",
       "      <td>...</td>\n",
       "      <td>...</td>\n",
       "      <td>...</td>\n",
       "      <td>...</td>\n",
       "      <td>...</td>\n",
       "      <td>...</td>\n",
       "      <td>...</td>\n",
       "      <td>...</td>\n",
       "      <td>...</td>\n",
       "      <td>...</td>\n",
       "      <td>...</td>\n",
       "      <td>...</td>\n",
       "      <td>...</td>\n",
       "    </tr>\n",
       "    <tr>\n",
       "      <th>pet7995</th>\n",
       "      <td>-1.0</td>\n",
       "      <td>-1.0</td>\n",
       "      <td>-2.0</td>\n",
       "      <td>-3.0</td>\n",
       "      <td>-1.0</td>\n",
       "      <td>0.0</td>\n",
       "      <td>-2.0</td>\n",
       "      <td>-3.0</td>\n",
       "      <td>-2.0</td>\n",
       "      <td>1.0</td>\n",
       "      <td>...</td>\n",
       "      <td>-2.0</td>\n",
       "      <td>0.0</td>\n",
       "      <td>-1.0</td>\n",
       "      <td>-2.0</td>\n",
       "      <td>-1.0</td>\n",
       "      <td>4.0</td>\n",
       "      <td>1.0</td>\n",
       "      <td>-3.0</td>\n",
       "      <td>-2.0</td>\n",
       "      <td>-2.0</td>\n",
       "    </tr>\n",
       "    <tr>\n",
       "      <th>pet7996</th>\n",
       "      <td>-1.0</td>\n",
       "      <td>-1.0</td>\n",
       "      <td>-2.0</td>\n",
       "      <td>-3.0</td>\n",
       "      <td>-1.0</td>\n",
       "      <td>0.0</td>\n",
       "      <td>-2.0</td>\n",
       "      <td>-3.0</td>\n",
       "      <td>-2.0</td>\n",
       "      <td>1.0</td>\n",
       "      <td>...</td>\n",
       "      <td>-2.0</td>\n",
       "      <td>0.0</td>\n",
       "      <td>-1.0</td>\n",
       "      <td>-2.0</td>\n",
       "      <td>-1.0</td>\n",
       "      <td>4.0</td>\n",
       "      <td>1.0</td>\n",
       "      <td>-3.0</td>\n",
       "      <td>-2.0</td>\n",
       "      <td>-2.0</td>\n",
       "    </tr>\n",
       "    <tr>\n",
       "      <th>pet7997</th>\n",
       "      <td>-1.0</td>\n",
       "      <td>-1.0</td>\n",
       "      <td>-2.0</td>\n",
       "      <td>-3.0</td>\n",
       "      <td>-1.0</td>\n",
       "      <td>0.0</td>\n",
       "      <td>-2.0</td>\n",
       "      <td>-3.0</td>\n",
       "      <td>-2.0</td>\n",
       "      <td>1.0</td>\n",
       "      <td>...</td>\n",
       "      <td>-2.0</td>\n",
       "      <td>0.0</td>\n",
       "      <td>-1.0</td>\n",
       "      <td>-2.0</td>\n",
       "      <td>-1.0</td>\n",
       "      <td>4.0</td>\n",
       "      <td>1.0</td>\n",
       "      <td>-3.0</td>\n",
       "      <td>-2.0</td>\n",
       "      <td>-2.0</td>\n",
       "    </tr>\n",
       "    <tr>\n",
       "      <th>pet7998</th>\n",
       "      <td>-1.0</td>\n",
       "      <td>-1.0</td>\n",
       "      <td>-2.0</td>\n",
       "      <td>-3.0</td>\n",
       "      <td>-1.0</td>\n",
       "      <td>0.0</td>\n",
       "      <td>-2.0</td>\n",
       "      <td>-3.0</td>\n",
       "      <td>-2.0</td>\n",
       "      <td>1.0</td>\n",
       "      <td>...</td>\n",
       "      <td>-2.0</td>\n",
       "      <td>0.0</td>\n",
       "      <td>-1.0</td>\n",
       "      <td>-2.0</td>\n",
       "      <td>-1.0</td>\n",
       "      <td>4.0</td>\n",
       "      <td>1.0</td>\n",
       "      <td>-3.0</td>\n",
       "      <td>-2.0</td>\n",
       "      <td>-2.0</td>\n",
       "    </tr>\n",
       "    <tr>\n",
       "      <th>pet7999</th>\n",
       "      <td>-1.0</td>\n",
       "      <td>-1.0</td>\n",
       "      <td>-2.0</td>\n",
       "      <td>-3.0</td>\n",
       "      <td>-1.0</td>\n",
       "      <td>0.0</td>\n",
       "      <td>-2.0</td>\n",
       "      <td>-3.0</td>\n",
       "      <td>-2.0</td>\n",
       "      <td>1.0</td>\n",
       "      <td>...</td>\n",
       "      <td>-2.0</td>\n",
       "      <td>0.0</td>\n",
       "      <td>-1.0</td>\n",
       "      <td>-2.0</td>\n",
       "      <td>-1.0</td>\n",
       "      <td>4.0</td>\n",
       "      <td>1.0</td>\n",
       "      <td>-3.0</td>\n",
       "      <td>-2.0</td>\n",
       "      <td>-2.0</td>\n",
       "    </tr>\n",
       "  </tbody>\n",
       "</table>\n",
       "<p>8000 rows × 7760 columns</p>\n",
       "</div>"
      ],
      "text/plain": [
       "         blosum62_1  blosum62_2  blosum62_3  blosum62_4  blosum62_5  \\\n",
       "pet0           -1.0        -1.0        -2.0        -3.0        -1.0   \n",
       "pet1           -1.0        -1.0        -2.0        -3.0        -1.0   \n",
       "pet2           -1.0        -1.0        -2.0        -3.0        -1.0   \n",
       "pet3           -1.0        -1.0        -2.0        -3.0        -1.0   \n",
       "pet4           -1.0        -1.0        -2.0        -3.0        -1.0   \n",
       "...             ...         ...         ...         ...         ...   \n",
       "pet7995        -1.0        -1.0        -2.0        -3.0        -1.0   \n",
       "pet7996        -1.0        -1.0        -2.0        -3.0        -1.0   \n",
       "pet7997        -1.0        -1.0        -2.0        -3.0        -1.0   \n",
       "pet7998        -1.0        -1.0        -2.0        -3.0        -1.0   \n",
       "pet7999        -1.0        -1.0        -2.0        -3.0        -1.0   \n",
       "\n",
       "         blosum62_6  blosum62_7  blosum62_8  blosum62_9  blosum62_10  ...  \\\n",
       "pet0            0.0        -2.0        -3.0        -2.0          1.0  ...   \n",
       "pet1            0.0        -2.0        -3.0        -2.0          1.0  ...   \n",
       "pet2            0.0        -2.0        -3.0        -2.0          1.0  ...   \n",
       "pet3            0.0        -2.0        -3.0        -2.0          1.0  ...   \n",
       "pet4            0.0        -2.0        -3.0        -2.0          1.0  ...   \n",
       "...             ...         ...         ...         ...          ...  ...   \n",
       "pet7995         0.0        -2.0        -3.0        -2.0          1.0  ...   \n",
       "pet7996         0.0        -2.0        -3.0        -2.0          1.0  ...   \n",
       "pet7997         0.0        -2.0        -3.0        -2.0          1.0  ...   \n",
       "pet7998         0.0        -2.0        -3.0        -2.0          1.0  ...   \n",
       "pet7999         0.0        -2.0        -3.0        -2.0          1.0  ...   \n",
       "\n",
       "         blosum62_7751  blosum62_7752  blosum62_7753  blosum62_7754  \\\n",
       "pet0              -2.0            0.0           -1.0           -2.0   \n",
       "pet1              -2.0            0.0           -1.0           -2.0   \n",
       "pet2              -2.0            0.0           -1.0           -2.0   \n",
       "pet3              -2.0            0.0           -1.0           -2.0   \n",
       "pet4              -2.0            0.0           -1.0           -2.0   \n",
       "...                ...            ...            ...            ...   \n",
       "pet7995           -2.0            0.0           -1.0           -2.0   \n",
       "pet7996           -2.0            0.0           -1.0           -2.0   \n",
       "pet7997           -2.0            0.0           -1.0           -2.0   \n",
       "pet7998           -2.0            0.0           -1.0           -2.0   \n",
       "pet7999           -2.0            0.0           -1.0           -2.0   \n",
       "\n",
       "         blosum62_7755  blosum62_7756  blosum62_7757  blosum62_7758  \\\n",
       "pet0              -1.0            4.0            1.0           -3.0   \n",
       "pet1              -1.0            4.0            1.0           -3.0   \n",
       "pet2              -1.0            4.0            1.0           -3.0   \n",
       "pet3              -1.0            4.0            1.0           -3.0   \n",
       "pet4              -1.0            4.0            1.0           -3.0   \n",
       "...                ...            ...            ...            ...   \n",
       "pet7995           -1.0            4.0            1.0           -3.0   \n",
       "pet7996           -1.0            4.0            1.0           -3.0   \n",
       "pet7997           -1.0            4.0            1.0           -3.0   \n",
       "pet7998           -1.0            4.0            1.0           -3.0   \n",
       "pet7999           -1.0            4.0            1.0           -3.0   \n",
       "\n",
       "         blosum62_7759  blosum62_7760  \n",
       "pet0              -2.0           -2.0  \n",
       "pet1              -2.0           -2.0  \n",
       "pet2              -2.0           -2.0  \n",
       "pet3              -2.0           -2.0  \n",
       "pet4              -2.0           -2.0  \n",
       "...                ...            ...  \n",
       "pet7995           -2.0           -2.0  \n",
       "pet7996           -2.0           -2.0  \n",
       "pet7997           -2.0           -2.0  \n",
       "pet7998           -2.0           -2.0  \n",
       "pet7999           -2.0           -2.0  \n",
       "\n",
       "[8000 rows x 7760 columns]"
      ]
     },
     "execution_count": 60,
     "metadata": {},
     "output_type": "execute_result"
    }
   ],
   "source": [
    "seqlist = []\n",
    "for a171 in AA:\n",
    "    for a172 in AA:\n",
    "        for a198 in AA:\n",
    "            seqtest = copy.deepcopy(seq)\n",
    "            seqtest = list(seqtest)\n",
    "            seqtest[170] = a171\n",
    "            seqtest[171] = a172\n",
    "            seqtest[197] = a198\n",
    "            seqtest = ''.join(seqtest)\n",
    "            seqlist.append(seqtest)\n",
    "#print(seqlist)\n",
    "feature,errmsg = Feature_extraction(seqlist,'BLOSUM62')\n",
    "feature"
   ]
  },
  {
   "cell_type": "code",
   "execution_count": 61,
   "metadata": {},
   "outputs": [
    {
     "data": {
      "text/plain": [
       "<bound method NDFrame._add_numeric_operations.<locals>.max of pet0       551.892883\n",
       "pet1       409.446106\n",
       "pet2       474.429565\n",
       "pet3       439.743286\n",
       "pet4       447.206482\n",
       "              ...    \n",
       "pet7995     70.206703\n",
       "pet7996     81.768768\n",
       "pet7997     49.862885\n",
       "pet7998     64.912590\n",
       "pet7999    129.365662\n",
       "Name: label, Length: 8000, dtype: float32>"
      ]
     },
     "execution_count": 61,
     "metadata": {},
     "output_type": "execute_result"
    }
   ],
   "source": [
    "value = model.predict(feature)\n",
    "value.max\n",
    "            "
   ]
  },
  {
   "cell_type": "code",
   "execution_count": 63,
   "metadata": {},
   "outputs": [
    {
     "name": "stdout",
     "output_type": "stream",
     "text": [
      "pet0       551.892883\n",
      "pet1       409.446106\n",
      "pet2       474.429565\n",
      "pet3       439.743286\n",
      "pet4       447.206482\n",
      "              ...    \n",
      "pet7995     70.206703\n",
      "pet7996     81.768768\n",
      "pet7997     49.862885\n",
      "pet7998     64.912590\n",
      "pet7999    129.365662\n",
      "Name: label, Length: 8000, dtype: float32\n"
     ]
    }
   ],
   "source": [
    "print(value)"
   ]
  },
  {
   "cell_type": "code",
   "execution_count": 66,
   "metadata": {},
   "outputs": [],
   "source": [
    "import pandas as pd \n",
    "dfp = pd.DataFrame({'seq':seqlist,'label':list(value)})"
   ]
  },
  {
   "cell_type": "code",
   "execution_count": 69,
   "metadata": {},
   "outputs": [],
   "source": [
    "dfps = dfp.sort_values('label',ascending=False)"
   ]
  },
  {
   "cell_type": "code",
   "execution_count": 74,
   "metadata": {},
   "outputs": [],
   "source": [
    "mseq = list(dfps.iloc[0]['seq'])"
   ]
  },
  {
   "cell_type": "code",
   "execution_count": 75,
   "metadata": {},
   "outputs": [
    {
     "data": {
      "text/plain": [
       "'A'"
      ]
     },
     "execution_count": 75,
     "metadata": {},
     "output_type": "execute_result"
    }
   ],
   "source": [
    "mseq[197]"
   ]
  },
  {
   "cell_type": "code",
   "execution_count": 76,
   "metadata": {},
   "outputs": [
    {
     "data": {
      "text/plain": [
       "'S'"
      ]
     },
     "execution_count": 76,
     "metadata": {},
     "output_type": "execute_result"
    }
   ],
   "source": [
    "mseq[171]"
   ]
  },
  {
   "cell_type": "code",
   "execution_count": 77,
   "metadata": {},
   "outputs": [
    {
     "data": {
      "text/plain": [
       "'L'"
      ]
     },
     "execution_count": 77,
     "metadata": {},
     "output_type": "execute_result"
    }
   ],
   "source": [
    "mseq[170]"
   ]
  },
  {
   "cell_type": "code",
   "execution_count": 87,
   "metadata": {},
   "outputs": [],
   "source": [
    "l171 = []\n",
    "l172 = []\n",
    "l198 = []\n",
    "for  index, item in dfps.iterrows():\n",
    "    l171.append(list(item['seq'])[170])\n",
    "    l172.append(list(item['seq'])[171])\n",
    "    l198.append(list(item['seq'])[197])\n",
    "\n"
   ]
  },
  {
   "cell_type": "code",
   "execution_count": 88,
   "metadata": {},
   "outputs": [],
   "source": [
    "dfps['l171'] = l171\n",
    "dfps['l172'] = l172\n",
    "dfps['l198'] = l198"
   ]
  },
  {
   "cell_type": "code",
   "execution_count": 91,
   "metadata": {},
   "outputs": [],
   "source": [
    "dfps.to_excel('predict.xlsx')"
   ]
  },
  {
   "cell_type": "code",
   "execution_count": null,
   "metadata": {},
   "outputs": [],
   "source": []
  }
 ],
 "metadata": {
  "kernelspec": {
   "display_name": "Python 3.7.6 ('base')",
   "language": "python",
   "name": "python3"
  },
  "language_info": {
   "codemirror_mode": {
    "name": "ipython",
    "version": 3
   },
   "file_extension": ".py",
   "mimetype": "text/x-python",
   "name": "python",
   "nbconvert_exporter": "python",
   "pygments_lexer": "ipython3",
   "version": "3.7.6"
  },
  "orig_nbformat": 4,
  "vscode": {
   "interpreter": {
    "hash": "882796b02b377d82476753a15ff481222c80e12176ac8d65ffc2f1884c5c52cf"
   }
  }
 },
 "nbformat": 4,
 "nbformat_minor": 2
}
